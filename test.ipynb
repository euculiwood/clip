{
 "cells": [
  {
   "metadata": {
    "ExecuteTime": {
     "end_time": "2025-05-28T09:20:52.058348Z",
     "start_time": "2025-05-28T09:20:52.032902Z"
    }
   },
   "cell_type": "code",
   "source": [
    "from datasets import load_from_disk\n",
    "import torch\n",
    "from torchvision import transforms\n",
    "import numpy as np  # 新增numpy导入\n",
    "\n",
    "# 确保train_data已加载\n",
    "train_dir = rf'/hy-tmp/data/sample_0.2/train_dataset'\n",
    "train_data = load_from_disk(train_dir)"
   ],
   "id": "c669f44f39dcb317",
   "outputs": [],
   "execution_count": 6
  },
  {
   "metadata": {
    "ExecuteTime": {
     "end_time": "2025-05-28T09:29:24.528891Z",
     "start_time": "2025-05-28T09:29:24.515525Z"
    }
   },
   "cell_type": "code",
   "source": "train_data_100=train_data.select(range(100))",
   "id": "4837e666af6ba70d",
   "outputs": [],
   "execution_count": 8
  },
  {
   "metadata": {
    "ExecuteTime": {
     "end_time": "2025-05-28T09:29:52.247253Z",
     "start_time": "2025-05-28T09:29:52.240541Z"
    }
   },
   "cell_type": "code",
   "source": "print(train_data_100)",
   "id": "b5913568799ab9f7",
   "outputs": [
    {
     "name": "stdout",
     "output_type": "stream",
     "text": [
      "Dataset({\n",
      "    features: ['image', 'spectrum', 'params', 'z'],\n",
      "    num_rows: 100\n",
      "})\n"
     ]
    }
   ],
   "execution_count": 11
  },
  {
   "metadata": {
    "ExecuteTime": {
     "end_time": "2025-05-28T09:31:18.109425Z",
     "start_time": "2025-05-28T09:31:16.028947Z"
    }
   },
   "cell_type": "code",
   "source": [
    "mean=train_data_100['image'].mean(dim=[0, 2, 3])\n",
    "std=train_data_100['image'].std(dim=[0, 2, 3])\n",
    "print(mean)\n",
    "print(std)"
   ],
   "id": "cc920547f9faa16",
   "outputs": [
    {
     "name": "stdout",
     "output_type": "stream",
     "text": [
      "tensor([0.0028, 0.0045, 0.0073, 0.0110, 0.0157])\n",
      "tensor([0.0558, 0.0886, 0.1444, 0.2138, 0.3089])\n"
     ]
    }
   ],
   "execution_count": 18
  },
  {
   "metadata": {
    "ExecuteTime": {
     "end_time": "2025-05-28T09:31:46.226718Z",
     "start_time": "2025-05-28T09:31:44.478941Z"
    }
   },
   "cell_type": "code",
   "source": [
    "# 新增全局像素统计\n",
    "all_pixels = []\n",
    "for i in range(len(train_data_100)):\n",
    "    img = train_data[i]['image'].numpy()\n",
    "    all_pixels.extend(img.flatten())\n",
    "\n",
    "global_min = np.min(all_pixels)  # 使用显式np引用\n",
    "global_max = np.max(all_pixels)  # 使用显式np引用\n",
    "print(global_min, global_max)"
   ],
   "id": "69ae1ca5a8515448",
   "outputs": [
    {
     "name": "stdout",
     "output_type": "stream",
     "text": [
      "-1.0234375 40.875\n"
     ]
    }
   ],
   "execution_count": 19
  },
  {
   "metadata": {},
   "cell_type": "code",
   "outputs": [],
   "execution_count": null,
   "source": "",
   "id": "3b33916a16e978ac"
  },
  {
   "metadata": {
    "ExecuteTime": {
     "end_time": "2025-05-28T09:31:59.784450Z",
     "start_time": "2025-05-28T09:31:59.777571Z"
    }
   },
   "cell_type": "code",
   "source": [
    "# 修改归一化函数为全局统计\n",
    "def normalize_global(tensor):\n",
    "    \"\"\"使用全局像素范围进行归一化\"\"\"\n",
    "    return (tensor - global_min) / (global_max - global_min + 1e-8)"
   ],
   "id": "e2ac4d102bd6fae7",
   "outputs": [],
   "execution_count": 20
  },
  {
   "metadata": {
    "ExecuteTime": {
     "end_time": "2025-05-28T09:33:27.711828Z",
     "start_time": "2025-05-28T09:33:26.661993Z"
    }
   },
   "cell_type": "code",
   "source": [
    "image=train_data_100['image']\n",
    "print(image.shape)"
   ],
   "id": "3fcf7294bc5ae643",
   "outputs": [
    {
     "name": "stdout",
     "output_type": "stream",
     "text": [
      "torch.Size([100, 5, 64, 64])\n"
     ]
    }
   ],
   "execution_count": 23
  },
  {
   "metadata": {
    "ExecuteTime": {
     "end_time": "2025-05-28T09:35:19.916460Z",
     "start_time": "2025-05-28T09:35:17.855136Z"
    }
   },
   "cell_type": "code",
   "source": [
    "mean=train_data_100['image'].mean(dim=[0, 2, 3],keepdims=True)\n",
    "std=train_data_100['image'].std(dim=[0, 2, 3],keepdims=True)"
   ],
   "id": "f4ab45436c1a154",
   "outputs": [],
   "execution_count": 26
  },
  {
   "metadata": {
    "ExecuteTime": {
     "end_time": "2025-05-28T09:36:13.814739Z",
     "start_time": "2025-05-28T09:36:13.792246Z"
    }
   },
   "cell_type": "code",
   "source": [
    "print(f\"{image.min()}-{image.max()}\")\n",
    "image_mm=normalize_global(image)\n",
    "print(f\"{image_mm.min()}-{image_mm.max()}\")\n",
    "\n",
    "mean=image_mm.mean(dim=[0, 2, 3],keepdims=True)\n",
    "std=image_mm.std(dim=[0, 2, 3],keepdims=True)\n",
    "image_mm_norm=(image_mm-mean)/std\n",
    "print(f\"{image_mm_norm.min()}-{image_mm_norm.max()}\")"
   ],
   "id": "2a1b71e05f49a7e9",
   "outputs": [
    {
     "name": "stdout",
     "output_type": "stream",
     "text": [
      "-1.0234375-40.875\n",
      "0.0-1.0\n",
      "-4.78042459487915-163.7924041748047\n"
     ]
    }
   ],
   "execution_count": 27
  },
  {
   "metadata": {
    "ExecuteTime": {
     "end_time": "2025-05-28T09:48:05.607157Z",
     "start_time": "2025-05-28T09:48:05.574935Z"
    }
   },
   "cell_type": "code",
   "source": [
    "x=np.log1p(image)\n",
    "print(x.shape)"
   ],
   "id": "36defcedae49480d",
   "outputs": [
    {
     "name": "stdout",
     "output_type": "stream",
     "text": [
      "torch.Size([100, 5, 64, 64])\n"
     ]
    },
    {
     "name": "stderr",
     "output_type": "stream",
     "text": [
      "/tmp/ipykernel_648/450651239.py:1: RuntimeWarning: invalid value encountered in log1p\n",
      "  x=np.log1p(image)\n",
      "/tmp/ipykernel_648/450651239.py:1: DeprecationWarning: __array_wrap__ must accept context and return_scalar arguments (positionally) in the future. (Deprecated NumPy 2.0)\n",
      "  x=np.log1p(image)\n"
     ]
    }
   ],
   "execution_count": 31
  },
  {
   "metadata": {
    "ExecuteTime": {
     "end_time": "2025-05-28T09:36:26.936002Z",
     "start_time": "2025-05-28T09:36:26.929354Z"
    }
   },
   "cell_type": "code",
   "source": "print(mean.shape)",
   "id": "cbac176b920cb8a8",
   "outputs": [
    {
     "name": "stdout",
     "output_type": "stream",
     "text": [
      "torch.Size([1, 5, 1, 1])\n"
     ]
    }
   ],
   "execution_count": 28
  },
  {
   "metadata": {
    "ExecuteTime": {
     "end_time": "2025-05-28T09:32:30.112329Z",
     "start_time": "2025-05-28T09:32:30.100588Z"
    }
   },
   "cell_type": "code",
   "source": [
    "# 创建transforms.Compose\n",
    "transform = transforms.Compose([\n",
    "    transforms.Lambda(lambda x: normalize_global(x)),\n",
    "    transforms.Normalize(mean=mean.tolist(), std=std.tolist())\n",
    "])\n",
    "\n",
    "# 创建PairDataset实例\n",
    "from dataset_util.PairDataset import PairDataset\n",
    "pair_dataset = PairDataset(train_data_100, transform=transform)"
   ],
   "id": "dd77465fe05562ee",
   "outputs": [],
   "execution_count": 21
  },
  {
   "metadata": {
    "ExecuteTime": {
     "end_time": "2025-05-28T09:06:35.985978Z",
     "start_time": "2025-05-28T09:06:35.979757Z"
    }
   },
   "cell_type": "code",
   "source": "train_dir=rf'/hy-tmp/data/sample_0.2/train_dataset'",
   "id": "6f606524a0079766",
   "outputs": [],
   "execution_count": 2
  },
  {
   "metadata": {
    "ExecuteTime": {
     "end_time": "2025-05-28T09:06:36.423854Z",
     "start_time": "2025-05-28T09:06:36.399721Z"
    }
   },
   "cell_type": "code",
   "source": "train_data=load_from_disk(train_dir)",
   "id": "8b7941a24db59f41",
   "outputs": [],
   "execution_count": 3
  },
  {
   "metadata": {
    "ExecuteTime": {
     "end_time": "2025-05-28T10:05:26.607719Z",
     "start_time": "2025-05-28T10:05:26.601754Z"
    }
   },
   "cell_type": "code",
   "source": "print(train_data)",
   "id": "1bd0dc7109ddd8c8",
   "outputs": [
    {
     "name": "stdout",
     "output_type": "stream",
     "text": [
      "Dataset({\n",
      "    features: ['image', 'spectrum', 'params', 'z'],\n",
      "    num_rows: 57797\n",
      "})\n"
     ]
    }
   ],
   "execution_count": 35
  },
  {
   "metadata": {
    "ExecuteTime": {
     "end_time": "2025-05-28T10:18:04.527944Z",
     "start_time": "2025-05-28T10:08:25.148904Z"
    }
   },
   "cell_type": "code",
   "source": [
    "image_all=train_data['image'].numpy()\n",
    "print(image_all.shape)"
   ],
   "id": "d3bacf42041e9dc6",
   "outputs": [
    {
     "name": "stdout",
     "output_type": "stream",
     "text": [
      "(57797, 5, 64, 64)\n"
     ]
    }
   ],
   "execution_count": 40
  },
  {
   "metadata": {
    "ExecuteTime": {
     "end_time": "2025-05-28T10:29:56.298037Z",
     "start_time": "2025-05-28T10:29:56.291397Z"
    }
   },
   "cell_type": "code",
   "source": "print(image_all.shape)",
   "id": "d0eb0ea5f0dd070",
   "outputs": [
    {
     "name": "stdout",
     "output_type": "stream",
     "text": [
      "(57797, 5, 64, 64)\n"
     ]
    }
   ],
   "execution_count": 54
  },
  {
   "metadata": {},
   "cell_type": "code",
   "outputs": [],
   "execution_count": null,
   "source": "print(f\"{image_all.min()}-{image_all.max()}\")",
   "id": "c8fa2d0a88744eb"
  },
  {
   "metadata": {
    "ExecuteTime": {
     "end_time": "2025-05-28T10:18:04.744876Z",
     "start_time": "2025-05-28T10:18:04.739602Z"
    }
   },
   "cell_type": "code",
   "source": [
    "min_val=-8.609375\n",
    "max_val= 2032.0"
   ],
   "id": "b68f93633c11244c",
   "outputs": [],
   "execution_count": 41
  },
  {
   "metadata": {},
   "cell_type": "code",
   "outputs": [],
   "execution_count": null,
   "source": "image_all",
   "id": "da5589fae912c2bd"
  },
  {
   "metadata": {
    "ExecuteTime": {
     "end_time": "2025-05-28T10:18:42.532620Z",
     "start_time": "2025-05-28T10:18:04.818652Z"
    }
   },
   "cell_type": "code",
   "source": "image_all_mm=(image_all-min_val)/(max_val-min_val)",
   "id": "17248902e9f26a19",
   "outputs": [],
   "execution_count": 42
  },
  {
   "metadata": {
    "ExecuteTime": {
     "end_time": "2025-05-28T10:30:12.688434Z",
     "start_time": "2025-05-28T10:30:11.784207Z"
    }
   },
   "cell_type": "code",
   "source": "print(f\"{image_all_mm.min()}-{image_all_mm.max()}\")",
   "id": "c6986cc7c3729ff3",
   "outputs": [
    {
     "name": "stdout",
     "output_type": "stream",
     "text": [
      "0.0-1.0\n"
     ]
    }
   ],
   "execution_count": 55
  },
  {
   "metadata": {
    "ExecuteTime": {
     "end_time": "2025-05-28T10:22:11.516224Z",
     "start_time": "2025-05-28T10:22:11.508114Z"
    }
   },
   "cell_type": "code",
   "source": [
    "print(type(image_all_mm))\n",
    "image_all_tensor=torch.from_numpy(image_all_mm)\n",
    "print(type(image_all_tensor))"
   ],
   "id": "4f43195f7be2dc89",
   "outputs": [
    {
     "name": "stdout",
     "output_type": "stream",
     "text": [
      "<class 'numpy.ndarray'>\n",
      "<class 'torch.Tensor'>\n"
     ]
    }
   ],
   "execution_count": 49
  },
  {
   "metadata": {
    "ExecuteTime": {
     "end_time": "2025-05-28T10:19:27.236768Z",
     "start_time": "2025-05-28T10:19:27.227851Z"
    }
   },
   "cell_type": "code",
   "source": "image_all_mm.shape",
   "id": "803c20c9bcd6bf32",
   "outputs": [
    {
     "data": {
      "text/plain": [
       "(57797, 5, 64, 64)"
      ]
     },
     "execution_count": 47,
     "metadata": {},
     "output_type": "execute_result"
    }
   ],
   "execution_count": 47
  },
  {
   "metadata": {
    "ExecuteTime": {
     "end_time": "2025-05-28T10:22:26.870203Z",
     "start_time": "2025-05-28T10:22:24.796161Z"
    }
   },
   "cell_type": "code",
   "source": [
    "mean=image_all_tensor.mean(dim=[0, 2, 3])\n",
    "std=image_all_tensor.std(dim=[0, 2, 3])"
   ],
   "id": "4e0a739df17da94c",
   "outputs": [],
   "execution_count": 50
  },
  {
   "metadata": {
    "ExecuteTime": {
     "end_time": "2025-05-28T10:22:43.121165Z",
     "start_time": "2025-05-28T10:22:43.112344Z"
    }
   },
   "cell_type": "code",
   "source": [
    "nprint(mean)\n",
    "print(std)"
   ],
   "id": "6f6cb75925c34e12",
   "outputs": [
    {
     "name": "stdout",
     "output_type": "stream",
     "text": [
      "tensor([0.0042, 0.0042, 0.0042, 0.0042, 0.0042])\n",
      "tensor([0.0002, 0.0001, 0.0002, 0.0002, 0.0006])\n"
     ]
    }
   ],
   "execution_count": 52
  },
  {
   "metadata": {},
   "cell_type": "code",
   "outputs": [],
   "execution_count": null,
   "source": "",
   "id": "8a953866c4c7711a"
  },
  {
   "metadata": {},
   "cell_type": "markdown",
   "source": [
    "SSLMetaArch(\n",
    "  (dino_loss): DINOLoss()\n",
    "  (koleo_loss): KoLeoLoss(\n",
    "    (pdist): PairwiseDistance()\n",
    "  )\n",
    "  (ibot_patch_loss): iBOTPatchLoss()\n",
    "  (student): ModuleDict(\n",
    "    (backbone): DinoVisionTransformer(\n",
    "      (patch_embed): PatchEmbed(\n",
    "        (proj): Conv2d(5, 1024, kernel_size=(8, 8), stride=(8, 8))\n",
    "        (norm): Identity()\n",
    "      )\n",
    "      (blocks): ModuleList(\n",
    "        (0): BlockChunk(\n",
    "          (0-5): 6 x NestedTensorBlock(\n",
    "            (norm1): LayerNorm((1024,), eps=1e-06, elementwise_affine=True)\n",
    "            (attn): MemEffAttention(\n",
    "              (qkv): Linear(in_features=1024, out_features=3072, bias=True)\n",
    "              (attn_drop): Dropout(p=0.0, inplace=False)\n",
    "              (proj): Linear(in_features=1024, out_features=1024, bias=True)\n",
    "              (proj_drop): Dropout(p=0.0, inplace=False)\n",
    "            )\n",
    "            (ls1): LayerScale()\n",
    "            (drop_path1): DropPath()\n",
    "            (norm2): LayerNorm((1024,), eps=1e-06, elementwise_affine=True)\n",
    "            (mlp): Mlp(\n",
    "              (fc1): Linear(in_features=1024, out_features=4096, bias=True)\n",
    "              (act): GELU(approximate='none')\n",
    "              (fc2): Linear(in_features=4096, out_features=1024, bias=True)\n",
    "              (drop): Dropout(p=0.0, inplace=False)\n",
    "            )\n",
    "            (ls2): LayerScale()\n",
    "            (drop_path2): DropPath()\n",
    "          )\n",
    "        )\n",
    "        (1): BlockChunk(\n",
    "          (0-5): 6 x Identity()\n",
    "          (6-11): 6 x NestedTensorBlock(\n",
    "            (norm1): LayerNorm((1024,), eps=1e-06, elementwise_affine=True)\n",
    "            (attn): MemEffAttention(\n",
    "              (qkv): Linear(in_features=1024, out_features=3072, bias=True)\n",
    "              (attn_drop): Dropout(p=0.0, inplace=False)\n",
    "              (proj): Linear(in_features=1024, out_features=1024, bias=True)\n",
    "              (proj_drop): Dropout(p=0.0, inplace=False)\n",
    "            )\n",
    "            (ls1): LayerScale()\n",
    "            (drop_path1): DropPath()\n",
    "            (norm2): LayerNorm((1024,), eps=1e-06, elementwise_affine=True)\n",
    "            (mlp): Mlp(\n",
    "              (fc1): Linear(in_features=1024, out_features=4096, bias=True)\n",
    "              (act): GELU(approximate='none')\n",
    "              (fc2): Linear(in_features=4096, out_features=1024, bias=True)\n",
    "              (drop): Dropout(p=0.0, inplace=False)\n",
    "            )\n",
    "            (ls2): LayerScale()\n",
    "            (drop_path2): DropPath()\n",
    "          )\n",
    "        )\n",
    "        (2): BlockChunk(\n",
    "          (0-11): 12 x Identity()\n",
    "          (12-17): 6 x NestedTensorBlock(\n",
    "            (norm1): LayerNorm((1024,), eps=1e-06, elementwise_affine=True)\n",
    "            (attn): MemEffAttention(\n",
    "              (qkv): Linear(in_features=1024, out_features=3072, bias=True)\n",
    "              (attn_drop): Dropout(p=0.0, inplace=False)\n",
    "              (proj): Linear(in_features=1024, out_features=1024, bias=True)\n",
    "              (proj_drop): Dropout(p=0.0, inplace=False)\n",
    "            )\n",
    "            (ls1): LayerScale()\n",
    "            (drop_path1): DropPath()\n",
    "            (norm2): LayerNorm((1024,), eps=1e-06, elementwise_affine=True)\n",
    "            (mlp): Mlp(\n",
    "              (fc1): Linear(in_features=1024, out_features=4096, bias=True)\n",
    "              (act): GELU(approximate='none')\n",
    "              (fc2): Linear(in_features=4096, out_features=1024, bias=True)\n",
    "              (drop): Dropout(p=0.0, inplace=False)\n",
    "            )\n",
    "            (ls2): LayerScale()\n",
    "            (drop_path2): DropPath()\n",
    "          )\n",
    "        )\n",
    "        (3): BlockChunk(\n",
    "          (0-17): 18 x Identity()\n",
    "          (18-23): 6 x NestedTensorBlock(\n",
    "            (norm1): LayerNorm((1024,), eps=1e-06, elementwise_affine=True)\n",
    "            (attn): MemEffAttention(\n",
    "              (qkv): Linear(in_features=1024, out_features=3072, bias=True)\n",
    "              (attn_drop): Dropout(p=0.0, inplace=False)\n",
    "              (proj): Linear(in_features=1024, out_features=1024, bias=True)\n",
    "              (proj_drop): Dropout(p=0.0, inplace=False)\n",
    "            )\n",
    "            (ls1): LayerScale()\n",
    "            (drop_path1): DropPath()\n",
    "            (norm2): LayerNorm((1024,), eps=1e-06, elementwise_affine=True)\n",
    "            (mlp): Mlp(\n",
    "              (fc1): Linear(in_features=1024, out_features=4096, bias=True)\n",
    "              (act): GELU(approximate='none')\n",
    "              (fc2): Linear(in_features=4096, out_features=1024, bias=True)\n",
    "              (drop): Dropout(p=0.0, inplace=False)\n",
    "            )\n",
    "            (ls2): LayerScale()\n",
    "            (drop_path2): DropPath()\n",
    "          )\n",
    "        )\n",
    "      )\n",
    "      (norm): LayerNorm((1024,), eps=1e-06, elementwise_affine=True)\n",
    "      (head): Identity()\n",
    "    )\n",
    "    (dino_head): DINOHead(\n",
    "      (mlp): Sequential(\n",
    "        (0): Linear(in_features=1024, out_features=2048, bias=True)\n",
    "        (1): GELU(approximate='none')\n",
    "        (2): Linear(in_features=2048, out_features=2048, bias=True)\n",
    "        (3): GELU(approximate='none')\n",
    "        (4): Linear(in_features=2048, out_features=256, bias=True)\n",
    "      )\n",
    "      (last_layer): Linear(in_features=256, out_features=65536, bias=False)\n",
    "    )\n",
    "  )\n",
    "  (teacher): ModuleDict(\n",
    "    (backbone): DinoVisionTransformer(\n",
    "      (patch_embed): PatchEmbed(\n",
    "        (proj): Conv2d(5, 1024, kernel_size=(8, 8), stride=(8, 8))\n",
    "        (norm): Identity()\n",
    "      )\n",
    "      (blocks): ModuleList(\n",
    "        (0): BlockChunk(\n",
    "          (0-5): 6 x NestedTensorBlock(\n",
    "            (norm1): LayerNorm((1024,), eps=1e-06, elementwise_affine=True)\n",
    "            (attn): MemEffAttention(\n",
    "              (qkv): Linear(in_features=1024, out_features=3072, bias=True)\n",
    "              (attn_drop): Dropout(p=0.0, inplace=False)\n",
    "              (proj): Linear(in_features=1024, out_features=1024, bias=True)\n",
    "              (proj_drop): Dropout(p=0.0, inplace=False)\n",
    "            )\n",
    "            (ls1): LayerScale()\n",
    "            (drop_path1): Identity()\n",
    "            (norm2): LayerNorm((1024,), eps=1e-06, elementwise_affine=True)\n",
    "            (mlp): Mlp(\n",
    "              (fc1): Linear(in_features=1024, out_features=4096, bias=True)\n",
    "              (act): GELU(approximate='none')\n",
    "              (fc2): Linear(in_features=4096, out_features=1024, bias=True)\n",
    "              (drop): Dropout(p=0.0, inplace=False)\n",
    "            )\n",
    "            (ls2): LayerScale()\n",
    "            (drop_path2): Identity()\n",
    "          )\n",
    "        )\n",
    "        (1): BlockChunk(\n",
    "          (0-5): 6 x Identity()\n",
    "          (6-11): 6 x NestedTensorBlock(\n",
    "            (norm1): LayerNorm((1024,), eps=1e-06, elementwise_affine=True)\n",
    "            (attn): MemEffAttention(\n",
    "              (qkv): Linear(in_features=1024, out_features=3072, bias=True)\n",
    "              (attn_drop): Dropout(p=0.0, inplace=False)\n",
    "              (proj): Linear(in_features=1024, out_features=1024, bias=True)\n",
    "              (proj_drop): Dropout(p=0.0, inplace=False)\n",
    "            )\n",
    "            (ls1): LayerScale()\n",
    "            (drop_path1): Identity()\n",
    "            (norm2): LayerNorm((1024,), eps=1e-06, elementwise_affine=True)\n",
    "            (mlp): Mlp(\n",
    "              (fc1): Linear(in_features=1024, out_features=4096, bias=True)\n",
    "              (act): GELU(approximate='none')\n",
    "              (fc2): Linear(in_features=4096, out_features=1024, bias=True)\n",
    "              (drop): Dropout(p=0.0, inplace=False)\n",
    "            )\n",
    "            (ls2): LayerScale()\n",
    "            (drop_path2): Identity()\n",
    "          )\n",
    "        )\n",
    "        (2): BlockChunk(\n",
    "          (0-11): 12 x Identity()\n",
    "          (12-17): 6 x NestedTensorBlock(\n",
    "            (norm1): LayerNorm((1024,), eps=1e-06, elementwise_affine=True)\n",
    "            (attn): MemEffAttention(\n",
    "              (qkv): Linear(in_features=1024, out_features=3072, bias=True)\n",
    "              (attn_drop): Dropout(p=0.0, inplace=False)\n",
    "              (proj): Linear(in_features=1024, out_features=1024, bias=True)\n",
    "              (proj_drop): Dropout(p=0.0, inplace=False)\n",
    "            )\n",
    "            (ls1): LayerScale()\n",
    "            (drop_path1): Identity()\n",
    "            (norm2): LayerNorm((1024,), eps=1e-06, elementwise_affine=True)\n",
    "            (mlp): Mlp(\n",
    "              (fc1): Linear(in_features=1024, out_features=4096, bias=True)\n",
    "              (act): GELU(approximate='none')\n",
    "              (fc2): Linear(in_features=4096, out_features=1024, bias=True)\n",
    "              (drop): Dropout(p=0.0, inplace=False)\n",
    "            )\n",
    "            (ls2): LayerScale()\n",
    "            (drop_path2): Identity()\n",
    "          )\n",
    "        )\n",
    "        (3): BlockChunk(\n",
    "          (0-17): 18 x Identity()\n",
    "          (18-23): 6 x NestedTensorBlock(\n",
    "            (norm1): LayerNorm((1024,), eps=1e-06, elementwise_affine=True)\n",
    "            (attn): MemEffAttention(\n",
    "              (qkv): Linear(in_features=1024, out_features=3072, bias=True)\n",
    "              (attn_drop): Dropout(p=0.0, inplace=False)\n",
    "              (proj): Linear(in_features=1024, out_features=1024, bias=True)\n",
    "              (proj_drop): Dropout(p=0.0, inplace=False)\n",
    "            )\n",
    "            (ls1): LayerScale()\n",
    "            (drop_path1): Identity()\n",
    "            (norm2): LayerNorm((1024,), eps=1e-06, elementwise_affine=True)\n",
    "            (mlp): Mlp(\n",
    "              (fc1): Linear(in_features=1024, out_features=4096, bias=True)\n",
    "              (act): GELU(approximate='none')\n",
    "              (fc2): Linear(in_features=4096, out_features=1024, bias=True)\n",
    "              (drop): Dropout(p=0.0, inplace=False)\n",
    "            )\n",
    "            (ls2): LayerScale()\n",
    "            (drop_path2): Identity()\n",
    "          )\n",
    "        )\n",
    "      )\n",
    "      (norm): LayerNorm((1024,), eps=1e-06, elementwise_affine=True)\n",
    "      (head): Identity()\n",
    "    )\n",
    "    (dino_head): DINOHead(\n",
    "      (mlp): Sequential(\n",
    "        (0): Linear(in_features=1024, out_features=2048, bias=True)\n",
    "        (1): GELU(approximate='none')\n",
    "        (2): Linear(in_features=2048, out_features=2048, bias=True)\n",
    "        (3): GELU(approximate='none')\n",
    "        (4): Linear(in_features=2048, out_features=256, bias=True)\n",
    "      )\n",
    "      (last_layer): Linear(in_features=256, out_features=65536, bias=False)\n",
    "    )\n",
    "  )\n",
    ")"
   ],
   "id": "99db26bf2633b75c"
  }
 ],
 "metadata": {
  "kernelspec": {
   "display_name": "Python 3",
   "language": "python",
   "name": "python3"
  },
  "language_info": {
   "codemirror_mode": {
    "name": "ipython",
    "version": 2
   },
   "file_extension": ".py",
   "mimetype": "text/x-python",
   "name": "python",
   "nbconvert_exporter": "python",
   "pygments_lexer": "ipython2",
   "version": "2.7.6"
  }
 },
 "nbformat": 4,
 "nbformat_minor": 5
}
